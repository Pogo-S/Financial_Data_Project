{
 "cells": [
  {
   "cell_type": "markdown",
   "id": "49a68e31",
   "metadata": {},
   "source": [
    "# Exploratory Data Analysis: Online Retail Dataset  \n",
    "*Author: Pragun Sapotra*  \n",
    "*Date: August 2025*\n",
    "\n",
    "This notebook explores the \"Online Retail\" dataset to understand data structure, types, and basic statistics.  \n",
    "It sets the foundation for subsequent data cleaning and analysis tasks.\n"
   ]
  },
  {
   "cell_type": "markdown",
   "id": "b257357d",
   "metadata": {},
   "source": [
    "## Importing libraries"
   ]
  },
  {
   "cell_type": "code",
   "execution_count": null,
   "id": "70bd856b",
   "metadata": {},
   "outputs": [],
   "source": [
    "# Environment Information and Setup\n",
    "\n",
    "import sys\n",
    "print(f\"Python version: {sys.version}\")\n",
    "\n",
    "from IPython.display import display\n",
    "\n",
    "import pandas as pd\n",
    "print(f\"Pandas version: {pd.__version__}\")\n",
    "\n",
    "import numpy as np\n",
    "print(f\"Numpy version: {np.__version__}\")\n",
    "\n",
    "import matplotlib\n",
    "print(f\"Matplotlib version: {matplotlib.__version__}\")\n",
    "\n",
    "\n",
    "\n",
    "# Uncomment and run if needed to install packages\n",
    "# !pip install pandas numpy matplotlib openpyxl\n"
   ]
  },
  {
   "cell_type": "markdown",
   "id": "0ba9e9c4",
   "metadata": {},
   "source": [
    "## Dataset Loading\n",
    "\n",
    "I define the file path relative to the current working directory for portability.  \n",
    "Next, I retrieve and print the sheet names in the Excel file to confirm the available data.  \n",
    "Finally, I load the 'Online Retail' sheet into a pandas DataFrame (`raw_df`) and make a copy (`df`) for analysis.\n"
   ]
  },
  {
   "cell_type": "code",
   "execution_count": null,
   "id": "648ea243",
   "metadata": {},
   "outputs": [],
   "source": [
    "base_dir = os.getcwd()\n",
    "file_path = os.path.join(base_dir, \"../Data/global_indicators_raw.xlsx\")\n",
    "\n",
    "xlsx = pd.ExcelFile(file_path)\n",
    "print(xlsx.sheet_names)\n",
    "\n",
    "raw_df = pd.read_excel(file_path, sheet_name='Online Retail')\n",
    "df = raw_df.copy()"
   ]
  },
  {
   "cell_type": "markdown",
   "id": "9b351e4b",
   "metadata": {},
   "source": [
    "## Initial Data Exploration"
   ]
  },
  {
   "cell_type": "markdown",
   "id": "50aeb54e",
   "metadata": {},
   "source": [
    "### Check Dataset Shape (Rows & Columns)"
   ]
  },
  {
   "cell_type": "code",
   "execution_count": null,
   "id": "c285b298",
   "metadata": {},
   "outputs": [],
   "source": [
    "df.shape"
   ]
  },
  {
   "cell_type": "markdown",
   "id": "2236d889",
   "metadata": {},
   "source": [
    "### View First and Last Few Rows (head(), tail())"
   ]
  },
  {
   "cell_type": "code",
   "execution_count": null,
   "id": "597d4b7d",
   "metadata": {},
   "outputs": [],
   "source": [
    "print(\"First 5 rows:\")\n",
    "display(df.head())\n",
    "\n",
    "print(\"Last 5 rows:\")\n",
    "display(df.tail())\n"
   ]
  },
  {
   "cell_type": "code",
   "execution_count": null,
   "id": "1f56cb17",
   "metadata": {},
   "outputs": [],
   "source": [
    "df.tail()"
   ]
  },
  {
   "cell_type": "markdown",
   "id": "ffea7848",
   "metadata": {},
   "source": [
    "### View Column Names and Data Types"
   ]
  },
  {
   "cell_type": "code",
   "execution_count": null,
   "id": "21aeecec",
   "metadata": {},
   "outputs": [],
   "source": [
    "df.info()"
   ]
  },
  {
   "cell_type": "markdown",
   "id": "081f9be8",
   "metadata": {},
   "source": [
    "### Initial Observations:\n",
    "- Columns `Description` and `CustomerID` contain missing values that will require cleaning.\n",
    "- `CustomerID` is stored as a float due to the presence of missing values (NaNs), although customer IDs are typically integers or strings.\n",
    "- The `InvoiceNo` column contains many repeated values, likely indicating multiple items per invoice or potential duplicates, which needs further investigation.\n"
   ]
  },
  {
   "cell_type": "markdown",
   "id": "7e2daa83",
   "metadata": {},
   "source": [
    "## Handling Duplicates\n",
    "In this section, I check for duplicate rows, inspect them, and filter specific cases for further investigation.\n"
   ]
  },
  {
   "cell_type": "markdown",
   "id": "1fa53c7f",
   "metadata": {},
   "source": [
    "### Identify Duplicate Rows"
   ]
  },
  {
   "cell_type": "code",
   "execution_count": null,
   "id": "c73c0121",
   "metadata": {},
   "outputs": [],
   "source": [
    "df.duplicated().sum()"
   ]
  },
  {
   "cell_type": "markdown",
   "id": "b09a0707",
   "metadata": {},
   "source": [
    "The dataset contains 5268 fully duplicated rows.\n"
   ]
  },
  {
   "cell_type": "code",
   "execution_count": null,
   "id": "068b445d",
   "metadata": {},
   "outputs": [],
   "source": [
    "df[df.duplicated()]"
   ]
  },
  {
   "cell_type": "markdown",
   "id": "8ca93c3c",
   "metadata": {},
   "source": [
    "Viewing the duplicate rows reveals that they have identical values across all columns."
   ]
  },
  {
   "cell_type": "markdown",
   "id": "f1b78283",
   "metadata": {},
   "source": [
    "### Filter Specific Duplicate Cases for Investigation\n",
    "Example: Filtering duplicates with StockCode = 22111 and InvoiceNo = 536409.\n"
   ]
  },
  {
   "cell_type": "code",
   "execution_count": null,
   "id": "186f8c17",
   "metadata": {},
   "outputs": [],
   "source": [
    "df[ (df[\"StockCode\"] == 22111) & (df[\"InvoiceNo\"] == 536409\t) ]"
   ]
  },
  {
   "cell_type": "markdown",
   "id": "d71c621c",
   "metadata": {},
   "source": [
    "### Removing Duplicate Rows\n"
   ]
  },
  {
   "cell_type": "code",
   "execution_count": null,
   "id": "e7407373",
   "metadata": {},
   "outputs": [],
   "source": [
    "df.drop_duplicates(inplace=True)"
   ]
  },
  {
   "cell_type": "markdown",
   "id": "c97b6014",
   "metadata": {},
   "source": [
    "All exact duplicate rows were removed across the entire dataset using `drop_duplicates()` to ensure data integrity.  \n",
    "The first occurrence of each duplicated record was retained while subsequent duplicates were dropped.\n",
    "\n",
    "- Total rows before cleaning: 541,909  \n",
    "- Total rows after cleaning: 536,641\n"
   ]
  },
  {
   "cell_type": "markdown",
   "id": "61ff0d2a",
   "metadata": {},
   "source": [
    "## Missing Values Analysis & Cleaning"
   ]
  },
  {
   "cell_type": "markdown",
   "id": "3997f205",
   "metadata": {},
   "source": [
    "### Count Missing Values per Column\n",
    "Checking for null values in each column to identify data gaps before cleaning.\n"
   ]
  },
  {
   "cell_type": "code",
   "execution_count": null,
   "id": "59cfd927",
   "metadata": {},
   "outputs": [],
   "source": [
    "df.isnull().sum()"
   ]
  },
  {
   "cell_type": "markdown",
   "id": "a04ca351",
   "metadata": {},
   "source": [
    "### Missing Values Overview\n",
    "- `Description`: 1,454 missing entries.\n",
    "- `CustomerID`: 135,037 missing entries — likely guest or anonymous customers.\n",
    "- All other columns have no missing values."
   ]
  },
  {
   "cell_type": "markdown",
   "id": "292be256",
   "metadata": {},
   "source": [
    "### Inspect `Description` Column"
   ]
  },
  {
   "cell_type": "code",
   "execution_count": null,
   "id": "8dce29a9",
   "metadata": {},
   "outputs": [],
   "source": [
    "df[df['Description'].isnull()]"
   ]
  },
  {
   "cell_type": "markdown",
   "id": "e4a08e49",
   "metadata": {},
   "source": [
    "**Observations on Missing `Description` Values:**  \n",
    "- All rows retrieved with `Above command` have a **`UnitPrice` of 0.0**.  \n",
    "- All of them also have a **missing (`NaN`) `CustomerID`**.  \n",
    "- At least one row has a **negative `Quantity`**, which could indicate a return.  \n",
    "- This suggests these records might represent **invalid or placeholder transactions**, but this needs full validation before deciding how to handle them.  \n"
   ]
  },
  {
   "cell_type": "code",
   "execution_count": null,
   "id": "28a12660",
   "metadata": {},
   "outputs": [],
   "source": [
    "df[(df[\"Description\"].isnull()) & (df[\"UnitPrice\"]== 0.0) & (df[\"CustomerID\"].isnull())]"
   ]
  },
  {
   "cell_type": "markdown",
   "id": "474a5530",
   "metadata": {},
   "source": [
    "**Observations on Missing `Description` Values:**  \n",
    "- All 1454 rows with missing `Description` also have:  \n",
    "  - **`UnitPrice` of 0.0**  \n",
    "  - **Missing (`NaN`) `CustomerID`**  \n",
    "  - The same **`StockCode` = 22139**  \n",
    "- These rows appear to be non-usable for analysis and may need to be removed.  "
   ]
  },
  {
   "cell_type": "code",
   "execution_count": null,
   "id": "9e69ecbf",
   "metadata": {},
   "outputs": [],
   "source": [
    "df.loc[df[\"StockCode\"] == 22139, \"Description\"].dropna().unique()"
   ]
  },
  {
   "cell_type": "markdown",
   "id": "3e8536e5",
   "metadata": {},
   "source": [
    "**Investigation of Missing `Description` Values:**\n",
    "- Checked if missing `Description` rows could be filled using their `StockCode`.\n",
    "- Found that `StockCode 22139` (which appears in all such rows) maps to **multiple different descriptions** in the dataset.\n",
    "- Since there is no reliable 1-to-1 mapping, filling these values could introduce incorrect data.\n",
    "- Decision: **Drop these rows** instead of imputing a value.\n"
   ]
  },
  {
   "cell_type": "markdown",
   "id": "cdc68dc7",
   "metadata": {},
   "source": [
    "### Handle Missing Values"
   ]
  },
  {
   "cell_type": "code",
   "execution_count": null,
   "id": "81cac70c",
   "metadata": {},
   "outputs": [],
   "source": [
    "df.drop(df[\n",
    "    (df[\"Description\"].isnull()) &\n",
    "    (df[\"UnitPrice\"] == 0.0) &\n",
    "    (df[\"CustomerID\"].isnull())\n",
    "].index, inplace=True)"
   ]
  },
  {
   "cell_type": "markdown",
   "id": "90b85024",
   "metadata": {},
   "source": [
    "**Removed Invalid Placeholder Transactions**  \n",
    "Dropped rows where:  \n",
    "- `Description` is missing (`NaN`)  \n",
    "- `UnitPrice` equals `0.0`  \n",
    "- `CustomerID` is missing (`NaN`)  \n",
    "\n",
    "These records appear to be non-usable placeholder entries.  \n",
    "\n",
    "- **Total rows before:** 536,641  \n",
    "- **Total rows after:** 535,187  \n",
    "- **Rows removed:** 1,454  \n"
   ]
  },
  {
   "cell_type": "markdown",
   "id": "9b337d20",
   "metadata": {},
   "source": [
    "### Inspect `CustomerID` Column"
   ]
  },
  {
   "cell_type": "code",
   "execution_count": null,
   "id": "4d985e43",
   "metadata": {},
   "outputs": [],
   "source": [
    "df[df[\"CustomerID\"].isnull()]"
   ]
  },
  {
   "cell_type": "markdown",
   "id": "dbbe1bb0",
   "metadata": {},
   "source": [
    "- Missing CustomerID (~133K rows) retained as NaN to preserve data and numeric type integrity.\n",
    "- Detailed reasoning provided in project README.\n"
   ]
  },
  {
   "cell_type": "markdown",
   "id": "5536b05d",
   "metadata": {},
   "source": [
    "## Data Type Validation"
   ]
  },
  {
   "cell_type": "markdown",
   "id": "b84d9858",
   "metadata": {},
   "source": [
    "Ensure all columns have the correct data types before performing further analysis."
   ]
  },
  {
   "cell_type": "code",
   "execution_count": null,
   "id": "6bf70aed",
   "metadata": {},
   "outputs": [],
   "source": [
    "df.info()"
   ]
  },
  {
   "cell_type": "markdown",
   "id": "9de32df7",
   "metadata": {},
   "source": [
    "All columns have valid data types. No corrections required."
   ]
  },
  {
   "cell_type": "markdown",
   "id": "29247f28",
   "metadata": {},
   "source": [
    "## Descriptive statistics"
   ]
  },
  {
   "cell_type": "markdown",
   "id": "1cd4e5de",
   "metadata": {},
   "source": [
    "### Detect Outliers Using IQR (Interquartile Range)"
   ]
  },
  {
   "cell_type": "code",
   "execution_count": null,
   "id": "33ceaf7d",
   "metadata": {},
   "outputs": [],
   "source": [
    "def detect_outliers_iqr(series):\n",
    "    Q1 = series.quantile(0.25)\n",
    "    Q3 = series.quantile(0.75)\n",
    "    IQR = Q3 - Q1\n",
    "\n",
    "    LB = Q1 - 1.5 * IQR\n",
    "    UB = Q3 + 1.5 * IQR\n",
    "\n",
    "    IQR_Outliers = series[(series < LB) | (series > UB)]\n",
    "    return IQR_Outliers, LB, UB\n",
    "\n",
    "# UnitPrice :\n",
    "IQR_Outliers, LB, UB = detect_outliers_iqr(df[\"UnitPrice\"])\n",
    "\n",
    "print(\"Lower Bound:\", LB)\n",
    "print(\"Upper Bound:\", UB)\n",
    "print(f\"Outliers detected: {len(IQR_Outliers)} rows\")\n",
    "\n",
    "df_outliers = df[df[\"UnitPrice\"].isin(IQR_Outliers)]\n",
    "df_outliers"
   ]
  },
  {
   "cell_type": "markdown",
   "id": "2604a84e",
   "metadata": {},
   "source": [
    "### Z-score"
   ]
  },
  {
   "cell_type": "code",
   "execution_count": null,
   "id": "7d7f8f86",
   "metadata": {},
   "outputs": [],
   "source": [
    "def detect_outliers_z(series, threshold=3):\n",
    "\n",
    "    mean = series.mean()\n",
    "    std = series.std()\n",
    "\n",
    "    df[\"z_score\"] = (series - mean) / std\n",
    "\n",
    "    Z_Outliers = series[np.abs(df[\"z_score\"]) > threshold]\n",
    "    Z_Outliers_df = df.loc[Z_Outliers.index]\n",
    "\n",
    "\n",
    "    return Z_Outliers, Z_Outliers_df, mean, std\n",
    "\n",
    "\n",
    "# Detect outliers in UnitPrice\n",
    "Z_Outliers, Z_Outliers_df, mean, std = detect_outliers_z(df[\"UnitPrice\"], threshold=3)\n",
    "\n",
    "print(\"Mean:\", mean)\n",
    "print(\"Standard Deviation:\", std)\n",
    "print(f\"Outliers detected: {len(Z_Outliers)} rows\")\n",
    "\n",
    "Z_Outliers_df\n"
   ]
  },
  {
   "cell_type": "markdown",
   "id": "1057f640",
   "metadata": {},
   "source": [
    "## Graphs"
   ]
  },
  {
   "cell_type": "markdown",
   "id": "1b389a1d",
   "metadata": {},
   "source": [
    "### Histogram: Distribution of Unit Prices"
   ]
  },
  {
   "cell_type": "code",
   "execution_count": null,
   "id": "671c10a8",
   "metadata": {},
   "outputs": [],
   "source": [
    "# Histogram to visualize distribution of UnitPrice\n",
    "\n",
    "plt.hist(df[\"UnitPrice\"] , bins = 30, edgecolor='Black')\n",
    "plt.grid(True, linestyle='--', alpha=0.5)\n",
    "plt.yscale('log')\n",
    "plt.title('Distribution of Unit Prices')\n",
    "plt.xlabel('Unit Price')\n",
    "plt.ylabel('frequency')\n",
    "plt.show()"
   ]
  },
  {
   "cell_type": "markdown",
   "id": "79c5b22f",
   "metadata": {},
   "source": [
    "### Violin Plot: Distribution of Z-Scores"
   ]
  },
  {
   "cell_type": "code",
   "execution_count": null,
   "id": "a18482c9",
   "metadata": {},
   "outputs": [],
   "source": [
    "plt.figure(figsize=(6,3))\n",
    "plt.violinplot(df[\"z_score\"], showextrema=True)\n",
    "\n",
    "plt.axhline(3, color=\"green\", linestyle=\"--\", linewidth=1, label=\"Threshold (+3)\")\n",
    "plt.axhline(-3, color=\"red\", linestyle=\"--\", linewidth=1, label=\"Threshold (-3)\")\n",
    "plt.legend(loc=\"upper right\", fontsize=6.5)\n",
    "\n",
    "plt.title(\"Distribution of Z-Scores\")\n",
    "plt.ylabel(\"Z-Score\")\n",
    "\n",
    "plt.show()\n"
   ]
  },
  {
   "cell_type": "markdown",
   "id": "22f91c25",
   "metadata": {},
   "source": [
    "## Handling Extreme Outliers and Data Filtering\n"
   ]
  },
  {
   "cell_type": "markdown",
   "id": "e9484ddb",
   "metadata": {},
   "source": [
    "### Handling extreme positive `Outliers`"
   ]
  },
  {
   "cell_type": "markdown",
   "id": "baa85707",
   "metadata": {},
   "source": [
    "Inspect top 20 extreme positive outliers using Z-score"
   ]
  },
  {
   "cell_type": "code",
   "execution_count": null,
   "id": "d13c5919",
   "metadata": {},
   "outputs": [],
   "source": [
    "df.sort_values(by=\"z_score\", ascending=False).head(20)"
   ]
  },
  {
   "cell_type": "markdown",
   "id": "f1f26f17",
   "metadata": {},
   "source": [
    "### Handling extreme negative `Outliers`"
   ]
  },
  {
   "cell_type": "markdown",
   "id": "ec191d7e",
   "metadata": {},
   "source": [
    "Inspect top 20 extreme negative outliers using Z-score"
   ]
  },
  {
   "cell_type": "code",
   "execution_count": null,
   "id": "b8ef5d22",
   "metadata": {},
   "outputs": [],
   "source": [
    "df.sort_values(by=\"z_score\", ascending=True).head(20)"
   ]
  },
  {
   "cell_type": "markdown",
   "id": "cff35f06",
   "metadata": {},
   "source": [
    "Remove known problematic invoices identified as extreme negative outliers in UnitPrice"
   ]
  },
  {
   "cell_type": "code",
   "execution_count": null,
   "id": "7702de9c",
   "metadata": {},
   "outputs": [],
   "source": [
    "df = df[~df[\"InvoiceNo\"].isin(['A563187', 'A563186'])]"
   ]
  },
  {
   "cell_type": "markdown",
   "id": "c1ca5646",
   "metadata": {},
   "source": [
    "### Handling extreme negative `Quantity`"
   ]
  },
  {
   "cell_type": "markdown",
   "id": "9bd8dcd1",
   "metadata": {},
   "source": [
    "Inspect negative quantities in Quantity column"
   ]
  },
  {
   "cell_type": "code",
   "execution_count": null,
   "id": "ac3db071",
   "metadata": {},
   "outputs": [],
   "source": [
    "negative_qty = df[df['Quantity'] < 0]\n",
    "\n",
    "print(negative_qty.shape)\n",
    "print(negative_qty['Quantity'].min(), negative_qty['Quantity'].max())\n"
   ]
  },
  {
   "cell_type": "markdown",
   "id": "37c22762",
   "metadata": {},
   "source": [
    "Filter out extreme negative quantities, keeping only normal returns (Quantity >= -10)"
   ]
  },
  {
   "cell_type": "code",
   "execution_count": null,
   "id": "2ac5cb4e",
   "metadata": {},
   "outputs": [],
   "source": [
    "df = df[df['Quantity'] >= -10]"
   ]
  },
  {
   "cell_type": "markdown",
   "id": "6028a7c7",
   "metadata": {},
   "source": [
    "## Final Distribution of UnitPrice after Cleaning Extreme Outliers and Problematic Invoices"
   ]
  },
  {
   "cell_type": "code",
   "execution_count": null,
   "id": "9a15dbaa",
   "metadata": {},
   "outputs": [],
   "source": [
    "plt.hist(df[\"UnitPrice\"] , bins = 30, edgecolor='Black')\n",
    "plt.grid(True, linestyle='--', alpha=0.5)\n",
    "plt.yscale('log')\n",
    "plt.title('Distribution of Unit Prices')\n",
    "plt.xlabel('Unit Price')\n",
    "plt.ylabel('Frequency')\n",
    "plt.show()"
   ]
  }
 ],
 "metadata": {
  "kernelspec": {
   "display_name": ".venv",
   "language": "python",
   "name": "python3"
  },
  "language_info": {
   "codemirror_mode": {
    "name": "ipython",
    "version": 3
   },
   "file_extension": ".py",
   "mimetype": "text/x-python",
   "name": "python",
   "nbconvert_exporter": "python",
   "pygments_lexer": "ipython3",
   "version": "3.13.3"
  }
 },
 "nbformat": 4,
 "nbformat_minor": 5
}
